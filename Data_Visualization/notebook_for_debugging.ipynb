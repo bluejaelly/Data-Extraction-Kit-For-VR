{
 "metadata": {
  "language_info": {
   "codemirror_mode": {
    "name": "ipython",
    "version": 3
   },
   "file_extension": ".py",
   "mimetype": "text/x-python",
   "name": "python",
   "nbconvert_exporter": "python",
   "pygments_lexer": "ipython3",
   "version": "3.8.5-final"
  },
  "orig_nbformat": 2,
  "kernelspec": {
   "name": "Python 3.8.5 64-bit",
   "display_name": "Python 3.8.5 64-bit",
   "metadata": {
    "interpreter": {
     "hash": "aee8b7b246df8f9039afb4144a1f6fd8d2ca17a180786b69acc140d282b71a49"
    }
   }
  }
 },
 "nbformat": 4,
 "nbformat_minor": 2,
 "cells": [
  {
   "cell_type": "code",
   "execution_count": 1,
   "metadata": {},
   "outputs": [
    {
     "output_type": "execute_result",
     "data": {
      "text/plain": "'/Users/jihoonkang/Data-Extraction-Kit-For-VR/Data_Visualization'"
     },
     "metadata": {},
     "execution_count": 1
    }
   ],
   "source": [
    "os.getcwd()"
   ]
  },
  {
   "cell_type": "code",
   "execution_count": 34,
   "metadata": {},
   "outputs": [],
   "source": [
    "import glob\n",
    "import pandas as pd\n",
    "temp_list = glob.glob(os.getcwd() + '/*')"
   ]
  },
  {
   "cell_type": "code",
   "execution_count": 38,
   "metadata": {},
   "outputs": [
    {
     "output_type": "execute_result",
     "data": {
      "text/plain": "['/Users/jihoonkang/Data-Extraction-Kit-For-VR/Data_Visualization/test123_GazeData.csv',\n '/Users/jihoonkang/Data-Extraction-Kit-For-VR/Data_Visualization/notebook_for_debugging.ipynb',\n '/Users/jihoonkang/Data-Extraction-Kit-For-VR/Data_Visualization/test123_ControllerGrabData.csv',\n '/Users/jihoonkang/Data-Extraction-Kit-For-VR/Data_Visualization/test123_PlayerPositionData.csv',\n '/Users/jihoonkang/Data-Extraction-Kit-For-VR/Data_Visualization/About.txt',\n '/Users/jihoonkang/Data-Extraction-Kit-For-VR/Data_Visualization/app.py',\n '/Users/jihoonkang/Data-Extraction-Kit-For-VR/Data_Visualization/Data Visualization for VR DMTK [Obsolete].ipynb',\n '/Users/jihoonkang/Data-Extraction-Kit-For-VR/Data_Visualization/assets',\n '/Users/jihoonkang/Data-Extraction-Kit-For-VR/Data_Visualization/test123_ControllerPointData.csv']"
     },
     "metadata": {},
     "execution_count": 38
    }
   ],
   "source": [
    "\n",
    "def findIndex(ref_list, keyword):\n",
    "    try:\n",
    "        return [idx  for idx, s in enumerate(ref_list) if keyword in s][0]\n",
    "    except:\n",
    "        return None\n",
    "temp_list"
   ]
  },
  {
   "cell_type": "code",
   "execution_count": 37,
   "metadata": {
    "tags": []
   },
   "outputs": [
    {
     "output_type": "execute_result",
     "data": {
      "text/plain": "         ID ObjectName  StartTime   EndTime\n0   test123      Floor    9.52194  10.12357\n1   test123     Sphere   10.42304  16.32677\n2   test123     Sphere   16.34951  19.90508\n3   test123      Floor   20.10525  20.50500\n4   test123     Sphere   21.02726  21.95002\n5   test123    Capsule   23.00513  25.38301\n6   test123      Floor   25.64967  26.72844\n7   test123   Cylinder   27.08241  30.16053\n8   test123      Floor   31.28297  31.40540\n9   test123       Cube   31.40540  31.72744\n10  test123      Floor   31.72744  32.04969\n11  test123      Floor   32.26068  32.44967\n12  test123       Cube   32.44967  32.92796\n13  test123      Floor   32.92796  33.15057\n14  test123       Cube   33.15057  34.66047\n15  test123      Floor   34.66047  34.68280\n16  test123       Cube   34.68280  36.92760\n17  test123       Cube   36.94962  38.02768\n18  test123      Floor   38.02768  38.18281\n19  test123       Cube   38.18281  42.28338\n20  test123      Floor   42.28338  42.68282\n21  test123       Cube   42.68282  43.58158\n22  test123      Floor   43.58158  43.74934\n23  test123       Cube   43.74934  45.72684\n24  test123       Cube   46.44916  47.08242\n25  test123      Floor   47.08242  47.38282\n26  test123       Cube   47.38282  49.24950\n27  test123      Floor   49.24950  49.88274\n28  test123       Cube   49.88274  50.22726\n29  test123      Floor   50.22726  50.54936\n30  test123       Cube   50.54936  52.60541\n31  test123      Floor   52.60541  52.88331\n32  test123      Floor   53.32742  53.92749\n33  test123      Floor   55.46089  55.70528\n34  test123      Floor   55.80550  56.60534\n35  test123     Sphere   56.70512  60.70551\n36  test123      Floor   61.10554  61.12783\n37  test123     Sphere   61.38342  67.60534\n38  test123      Floor   67.90543  68.22773\n39  test123    Capsule   68.42785  73.78260\n40  test123      Floor   74.28277  74.50523\n41  test123      Floor   79.02786  79.98359\n42  test123      Floor   80.26138  80.45018\n43  test123       Cube   80.45018  85.96131\n44  test123      Floor   85.96131  86.02805\n45  test123       Cube   86.02805  87.90536\n46  test123      Floor   87.90536  88.26113\n47  test123       Cube   88.26113  90.82853\n48  test123      Floor   90.82853  90.96165\n49  test123       Cube   90.96165  92.62825\n50  test123      Floor   92.62825  93.35029\n51  test123     Sphere   93.40728  97.02833\n52  test123     Sphere   97.46176  97.88387\n53  test123     Sphere   98.48391  98.58392\n54  test123     Sphere   98.75073  99.08396",
      "text/html": "<div>\n<style scoped>\n    .dataframe tbody tr th:only-of-type {\n        vertical-align: middle;\n    }\n\n    .dataframe tbody tr th {\n        vertical-align: top;\n    }\n\n    .dataframe thead th {\n        text-align: right;\n    }\n</style>\n<table border=\"1\" class=\"dataframe\">\n  <thead>\n    <tr style=\"text-align: right;\">\n      <th></th>\n      <th>ID</th>\n      <th>ObjectName</th>\n      <th>StartTime</th>\n      <th>EndTime</th>\n    </tr>\n  </thead>\n  <tbody>\n    <tr>\n      <th>0</th>\n      <td>test123</td>\n      <td>Floor</td>\n      <td>9.52194</td>\n      <td>10.12357</td>\n    </tr>\n    <tr>\n      <th>1</th>\n      <td>test123</td>\n      <td>Sphere</td>\n      <td>10.42304</td>\n      <td>16.32677</td>\n    </tr>\n    <tr>\n      <th>2</th>\n      <td>test123</td>\n      <td>Sphere</td>\n      <td>16.34951</td>\n      <td>19.90508</td>\n    </tr>\n    <tr>\n      <th>3</th>\n      <td>test123</td>\n      <td>Floor</td>\n      <td>20.10525</td>\n      <td>20.50500</td>\n    </tr>\n    <tr>\n      <th>4</th>\n      <td>test123</td>\n      <td>Sphere</td>\n      <td>21.02726</td>\n      <td>21.95002</td>\n    </tr>\n    <tr>\n      <th>5</th>\n      <td>test123</td>\n      <td>Capsule</td>\n      <td>23.00513</td>\n      <td>25.38301</td>\n    </tr>\n    <tr>\n      <th>6</th>\n      <td>test123</td>\n      <td>Floor</td>\n      <td>25.64967</td>\n      <td>26.72844</td>\n    </tr>\n    <tr>\n      <th>7</th>\n      <td>test123</td>\n      <td>Cylinder</td>\n      <td>27.08241</td>\n      <td>30.16053</td>\n    </tr>\n    <tr>\n      <th>8</th>\n      <td>test123</td>\n      <td>Floor</td>\n      <td>31.28297</td>\n      <td>31.40540</td>\n    </tr>\n    <tr>\n      <th>9</th>\n      <td>test123</td>\n      <td>Cube</td>\n      <td>31.40540</td>\n      <td>31.72744</td>\n    </tr>\n    <tr>\n      <th>10</th>\n      <td>test123</td>\n      <td>Floor</td>\n      <td>31.72744</td>\n      <td>32.04969</td>\n    </tr>\n    <tr>\n      <th>11</th>\n      <td>test123</td>\n      <td>Floor</td>\n      <td>32.26068</td>\n      <td>32.44967</td>\n    </tr>\n    <tr>\n      <th>12</th>\n      <td>test123</td>\n      <td>Cube</td>\n      <td>32.44967</td>\n      <td>32.92796</td>\n    </tr>\n    <tr>\n      <th>13</th>\n      <td>test123</td>\n      <td>Floor</td>\n      <td>32.92796</td>\n      <td>33.15057</td>\n    </tr>\n    <tr>\n      <th>14</th>\n      <td>test123</td>\n      <td>Cube</td>\n      <td>33.15057</td>\n      <td>34.66047</td>\n    </tr>\n    <tr>\n      <th>15</th>\n      <td>test123</td>\n      <td>Floor</td>\n      <td>34.66047</td>\n      <td>34.68280</td>\n    </tr>\n    <tr>\n      <th>16</th>\n      <td>test123</td>\n      <td>Cube</td>\n      <td>34.68280</td>\n      <td>36.92760</td>\n    </tr>\n    <tr>\n      <th>17</th>\n      <td>test123</td>\n      <td>Cube</td>\n      <td>36.94962</td>\n      <td>38.02768</td>\n    </tr>\n    <tr>\n      <th>18</th>\n      <td>test123</td>\n      <td>Floor</td>\n      <td>38.02768</td>\n      <td>38.18281</td>\n    </tr>\n    <tr>\n      <th>19</th>\n      <td>test123</td>\n      <td>Cube</td>\n      <td>38.18281</td>\n      <td>42.28338</td>\n    </tr>\n    <tr>\n      <th>20</th>\n      <td>test123</td>\n      <td>Floor</td>\n      <td>42.28338</td>\n      <td>42.68282</td>\n    </tr>\n    <tr>\n      <th>21</th>\n      <td>test123</td>\n      <td>Cube</td>\n      <td>42.68282</td>\n      <td>43.58158</td>\n    </tr>\n    <tr>\n      <th>22</th>\n      <td>test123</td>\n      <td>Floor</td>\n      <td>43.58158</td>\n      <td>43.74934</td>\n    </tr>\n    <tr>\n      <th>23</th>\n      <td>test123</td>\n      <td>Cube</td>\n      <td>43.74934</td>\n      <td>45.72684</td>\n    </tr>\n    <tr>\n      <th>24</th>\n      <td>test123</td>\n      <td>Cube</td>\n      <td>46.44916</td>\n      <td>47.08242</td>\n    </tr>\n    <tr>\n      <th>25</th>\n      <td>test123</td>\n      <td>Floor</td>\n      <td>47.08242</td>\n      <td>47.38282</td>\n    </tr>\n    <tr>\n      <th>26</th>\n      <td>test123</td>\n      <td>Cube</td>\n      <td>47.38282</td>\n      <td>49.24950</td>\n    </tr>\n    <tr>\n      <th>27</th>\n      <td>test123</td>\n      <td>Floor</td>\n      <td>49.24950</td>\n      <td>49.88274</td>\n    </tr>\n    <tr>\n      <th>28</th>\n      <td>test123</td>\n      <td>Cube</td>\n      <td>49.88274</td>\n      <td>50.22726</td>\n    </tr>\n    <tr>\n      <th>29</th>\n      <td>test123</td>\n      <td>Floor</td>\n      <td>50.22726</td>\n      <td>50.54936</td>\n    </tr>\n    <tr>\n      <th>30</th>\n      <td>test123</td>\n      <td>Cube</td>\n      <td>50.54936</td>\n      <td>52.60541</td>\n    </tr>\n    <tr>\n      <th>31</th>\n      <td>test123</td>\n      <td>Floor</td>\n      <td>52.60541</td>\n      <td>52.88331</td>\n    </tr>\n    <tr>\n      <th>32</th>\n      <td>test123</td>\n      <td>Floor</td>\n      <td>53.32742</td>\n      <td>53.92749</td>\n    </tr>\n    <tr>\n      <th>33</th>\n      <td>test123</td>\n      <td>Floor</td>\n      <td>55.46089</td>\n      <td>55.70528</td>\n    </tr>\n    <tr>\n      <th>34</th>\n      <td>test123</td>\n      <td>Floor</td>\n      <td>55.80550</td>\n      <td>56.60534</td>\n    </tr>\n    <tr>\n      <th>35</th>\n      <td>test123</td>\n      <td>Sphere</td>\n      <td>56.70512</td>\n      <td>60.70551</td>\n    </tr>\n    <tr>\n      <th>36</th>\n      <td>test123</td>\n      <td>Floor</td>\n      <td>61.10554</td>\n      <td>61.12783</td>\n    </tr>\n    <tr>\n      <th>37</th>\n      <td>test123</td>\n      <td>Sphere</td>\n      <td>61.38342</td>\n      <td>67.60534</td>\n    </tr>\n    <tr>\n      <th>38</th>\n      <td>test123</td>\n      <td>Floor</td>\n      <td>67.90543</td>\n      <td>68.22773</td>\n    </tr>\n    <tr>\n      <th>39</th>\n      <td>test123</td>\n      <td>Capsule</td>\n      <td>68.42785</td>\n      <td>73.78260</td>\n    </tr>\n    <tr>\n      <th>40</th>\n      <td>test123</td>\n      <td>Floor</td>\n      <td>74.28277</td>\n      <td>74.50523</td>\n    </tr>\n    <tr>\n      <th>41</th>\n      <td>test123</td>\n      <td>Floor</td>\n      <td>79.02786</td>\n      <td>79.98359</td>\n    </tr>\n    <tr>\n      <th>42</th>\n      <td>test123</td>\n      <td>Floor</td>\n      <td>80.26138</td>\n      <td>80.45018</td>\n    </tr>\n    <tr>\n      <th>43</th>\n      <td>test123</td>\n      <td>Cube</td>\n      <td>80.45018</td>\n      <td>85.96131</td>\n    </tr>\n    <tr>\n      <th>44</th>\n      <td>test123</td>\n      <td>Floor</td>\n      <td>85.96131</td>\n      <td>86.02805</td>\n    </tr>\n    <tr>\n      <th>45</th>\n      <td>test123</td>\n      <td>Cube</td>\n      <td>86.02805</td>\n      <td>87.90536</td>\n    </tr>\n    <tr>\n      <th>46</th>\n      <td>test123</td>\n      <td>Floor</td>\n      <td>87.90536</td>\n      <td>88.26113</td>\n    </tr>\n    <tr>\n      <th>47</th>\n      <td>test123</td>\n      <td>Cube</td>\n      <td>88.26113</td>\n      <td>90.82853</td>\n    </tr>\n    <tr>\n      <th>48</th>\n      <td>test123</td>\n      <td>Floor</td>\n      <td>90.82853</td>\n      <td>90.96165</td>\n    </tr>\n    <tr>\n      <th>49</th>\n      <td>test123</td>\n      <td>Cube</td>\n      <td>90.96165</td>\n      <td>92.62825</td>\n    </tr>\n    <tr>\n      <th>50</th>\n      <td>test123</td>\n      <td>Floor</td>\n      <td>92.62825</td>\n      <td>93.35029</td>\n    </tr>\n    <tr>\n      <th>51</th>\n      <td>test123</td>\n      <td>Sphere</td>\n      <td>93.40728</td>\n      <td>97.02833</td>\n    </tr>\n    <tr>\n      <th>52</th>\n      <td>test123</td>\n      <td>Sphere</td>\n      <td>97.46176</td>\n      <td>97.88387</td>\n    </tr>\n    <tr>\n      <th>53</th>\n      <td>test123</td>\n      <td>Sphere</td>\n      <td>98.48391</td>\n      <td>98.58392</td>\n    </tr>\n    <tr>\n      <th>54</th>\n      <td>test123</td>\n      <td>Sphere</td>\n      <td>98.75073</td>\n      <td>99.08396</td>\n    </tr>\n  </tbody>\n</table>\n</div>"
     },
     "metadata": {},
     "execution_count": 37
    }
   ],
   "source": [
    "head_index = findIndex(temp_list, \"Gaze\")\n",
    "point_index = findIndex(temp_list, \"Point\")\n",
    "grab_index = findIndex(temp_list, \"Grab\")\n",
    "pos_index = findIndex(temp_list, \"Position\")\n",
    "\n",
    "\n",
    "head_data = pd.read_csv(temp_list[head_index])\n",
    "head_data "
   ]
  },
  {
   "cell_type": "code",
   "execution_count": null,
   "metadata": {},
   "outputs": [],
   "source": []
  }
 ]
}